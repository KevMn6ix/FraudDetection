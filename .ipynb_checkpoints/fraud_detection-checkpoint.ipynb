{
 "cells": [
  {
   "cell_type": "code",
   "execution_count": 2,
   "id": "298202a1",
   "metadata": {},
   "outputs": [],
   "source": [
    "from pyspark.sql import SparkSession"
   ]
  },
  {
   "cell_type": "markdown",
   "id": "2ef00a35",
   "metadata": {},
   "source": [
    "# 1. Data Preprocessing "
   ]
  },
  {
   "cell_type": "code",
   "execution_count": 3,
   "id": "06ba3772",
   "metadata": {},
   "outputs": [],
   "source": [
    "spark = SparkSession \\\n",
    "        .builder \\\n",
    "        .appName('FraudDet') \\\n",
    "        .getOrCreate()"
   ]
  },
  {
   "cell_type": "code",
   "execution_count": 4,
   "id": "65b25a26",
   "metadata": {},
   "outputs": [
    {
     "data": {
      "text/html": [
       "\n",
       "            <div>\n",
       "                <p><b>SparkSession - in-memory</b></p>\n",
       "                \n",
       "        <div>\n",
       "            <p><b>SparkContext</b></p>\n",
       "\n",
       "            <p><a href=\"http://DESKTOP-IGPOC1P:4040\">Spark UI</a></p>\n",
       "\n",
       "            <dl>\n",
       "              <dt>Version</dt>\n",
       "                <dd><code>v3.5.1</code></dd>\n",
       "              <dt>Master</dt>\n",
       "                <dd><code>local[*]</code></dd>\n",
       "              <dt>AppName</dt>\n",
       "                <dd><code>FraudDet</code></dd>\n",
       "            </dl>\n",
       "        </div>\n",
       "        \n",
       "            </div>\n",
       "        "
      ],
      "text/plain": [
       "<pyspark.sql.session.SparkSession at 0x2ab773773d0>"
      ]
     },
     "execution_count": 4,
     "metadata": {},
     "output_type": "execute_result"
    }
   ],
   "source": [
    "spark"
   ]
  },
  {
   "cell_type": "code",
   "execution_count": 5,
   "id": "2d22f881",
   "metadata": {},
   "outputs": [],
   "source": [
    "file_path = 'fraud_detection.csv'\n",
    "df_fraud_det = spark.read.csv(file_path, header=True)"
   ]
  },
  {
   "cell_type": "code",
   "execution_count": 6,
   "id": "d5e404ef",
   "metadata": {},
   "outputs": [
    {
     "name": "stdout",
     "output_type": "stream",
     "text": [
      "root\n",
      " |-- step: string (nullable = true)\n",
      " |-- type: string (nullable = true)\n",
      " |-- amount: string (nullable = true)\n",
      " |-- nameOrig: string (nullable = true)\n",
      " |-- oldbalanceOrg: string (nullable = true)\n",
      " |-- newbalanceOrig: string (nullable = true)\n",
      " |-- nameDest: string (nullable = true)\n",
      " |-- oldbalanceDest: string (nullable = true)\n",
      " |-- newbalanceDest: string (nullable = true)\n",
      " |-- isFraud: string (nullable = true)\n",
      " |-- isFlaggedFraud: string (nullable = true)\n",
      "\n"
     ]
    }
   ],
   "source": [
    "df_fraud_det.printSchema()"
   ]
  },
  {
   "cell_type": "code",
   "execution_count": 7,
   "id": "c5a6bbe2",
   "metadata": {},
   "outputs": [
    {
     "name": "stdout",
     "output_type": "stream",
     "text": [
      "6362620 11\n"
     ]
    }
   ],
   "source": [
    "num_rows = df_fraud_det.count()\n",
    "num_cols = len(df_fraud_det.columns)\n",
    "\n",
    "print(num_rows, num_cols)"
   ]
  },
  {
   "cell_type": "code",
   "execution_count": 8,
   "id": "b8e86786",
   "metadata": {},
   "outputs": [
    {
     "name": "stdout",
     "output_type": "stream",
     "text": [
      "+----+--------+---------+-----------+-------------+--------------+-----------+--------------+--------------+-------+--------------+\n",
      "|step|    type|   amount|   nameOrig|oldbalanceOrg|newbalanceOrig|   nameDest|oldbalanceDest|newbalanceDest|isFraud|isFlaggedFraud|\n",
      "+----+--------+---------+-----------+-------------+--------------+-----------+--------------+--------------+-------+--------------+\n",
      "|   1| PAYMENT|  9839.64|C1231006815|     170136.0|     160296.36|M1979787155|           0.0|           0.0|      0|             0|\n",
      "|   1| PAYMENT|  1864.28|C1666544295|      21249.0|      19384.72|M2044282225|           0.0|           0.0|      0|             0|\n",
      "|   1|TRANSFER|    181.0|C1305486145|        181.0|           0.0| C553264065|           0.0|           0.0|      1|             0|\n",
      "|   1|CASH_OUT|    181.0| C840083671|        181.0|           0.0|  C38997010|       21182.0|           0.0|      1|             0|\n",
      "|   1| PAYMENT| 11668.14|C2048537720|      41554.0|      29885.86|M1230701703|           0.0|           0.0|      0|             0|\n",
      "|   1| PAYMENT|  7817.71|  C90045638|      53860.0|      46042.29| M573487274|           0.0|           0.0|      0|             0|\n",
      "|   1| PAYMENT|  7107.77| C154988899|     183195.0|     176087.23| M408069119|           0.0|           0.0|      0|             0|\n",
      "|   1| PAYMENT|  7861.64|C1912850431|    176087.23|     168225.59| M633326333|           0.0|           0.0|      0|             0|\n",
      "|   1| PAYMENT|  4024.36|C1265012928|       2671.0|           0.0|M1176932104|           0.0|           0.0|      0|             0|\n",
      "|   1|   DEBIT|  5337.77| C712410124|      41720.0|      36382.23| C195600860|       41898.0|      40348.79|      0|             0|\n",
      "|   1|   DEBIT|  9644.94|C1900366749|       4465.0|           0.0| C997608398|       10845.0|     157982.12|      0|             0|\n",
      "|   1| PAYMENT|  3099.97| C249177573|      20771.0|      17671.03|M2096539129|           0.0|           0.0|      0|             0|\n",
      "|   1| PAYMENT|  2560.74|C1648232591|       5070.0|       2509.26| M972865270|           0.0|           0.0|      0|             0|\n",
      "|   1| PAYMENT| 11633.76|C1716932897|      10127.0|           0.0| M801569151|           0.0|           0.0|      0|             0|\n",
      "|   1| PAYMENT|  4098.78|C1026483832|     503264.0|     499165.22|M1635378213|           0.0|           0.0|      0|             0|\n",
      "|   1|CASH_OUT|229133.94| C905080434|      15325.0|           0.0| C476402209|        5083.0|      51513.44|      0|             0|\n",
      "|   1| PAYMENT|  1563.82| C761750706|        450.0|           0.0|M1731217984|           0.0|           0.0|      0|             0|\n",
      "|   1| PAYMENT|  1157.86|C1237762639|      21156.0|      19998.14|M1877062907|           0.0|           0.0|      0|             0|\n",
      "|   1| PAYMENT|   671.64|C2033524545|      15123.0|      14451.36| M473053293|           0.0|           0.0|      0|             0|\n",
      "|   1|TRANSFER| 215310.3|C1670993182|        705.0|           0.0|C1100439041|       22425.0|           0.0|      0|             0|\n",
      "+----+--------+---------+-----------+-------------+--------------+-----------+--------------+--------------+-------+--------------+\n",
      "only showing top 20 rows\n",
      "\n"
     ]
    }
   ],
   "source": [
    "df_fraud_det.na.drop().show()"
   ]
  },
  {
   "cell_type": "code",
   "execution_count": 9,
   "id": "61062adf",
   "metadata": {},
   "outputs": [],
   "source": [
    "df_fraud_det = df_fraud_det.dropDuplicates()"
   ]
  },
  {
   "cell_type": "code",
   "execution_count": 11,
   "id": "623c43df",
   "metadata": {},
   "outputs": [],
   "source": [
    "from pyspark.sql.functions import col\n",
    "\n",
    "old_cols = df_fraud_det.columns\n",
    "new_cols = [col(col_name).alias(col_name.lower()) for col_name in old_cols]"
   ]
  },
  {
   "cell_type": "code",
   "execution_count": 12,
   "id": "99724c68",
   "metadata": {},
   "outputs": [],
   "source": [
    "df_fraud_det = df_fraud_det.select(*new_cols)"
   ]
  },
  {
   "cell_type": "code",
   "execution_count": 13,
   "id": "dfff2492",
   "metadata": {},
   "outputs": [
    {
     "data": {
      "text/plain": [
       "['step',\n",
       " 'type',\n",
       " 'amount',\n",
       " 'nameorig',\n",
       " 'oldbalanceorg',\n",
       " 'newbalanceorig',\n",
       " 'namedest',\n",
       " 'oldbalancedest',\n",
       " 'newbalancedest',\n",
       " 'isfraud',\n",
       " 'isflaggedfraud']"
      ]
     },
     "execution_count": 13,
     "metadata": {},
     "output_type": "execute_result"
    }
   ],
   "source": [
    "df_fraud_det.columns"
   ]
  },
  {
   "cell_type": "code",
   "execution_count": 14,
   "id": "9a9875c3",
   "metadata": {},
   "outputs": [
    {
     "name": "stdout",
     "output_type": "stream",
     "text": [
      "+----+--------+---------+-----------+-------------+--------------+-----------+--------------+--------------+-------+--------------+\n",
      "|step|    type|   amount|   nameorig|oldbalanceorg|newbalanceorig|   namedest|oldbalancedest|newbalancedest|isfraud|isflaggedfraud|\n",
      "+----+--------+---------+-----------+-------------+--------------+-----------+--------------+--------------+-------+--------------+\n",
      "|   1| PAYMENT|  9753.55|C1048712791|      60829.0|      51075.45| M487792155|           0.0|           0.0|      0|             0|\n",
      "|   1|CASH_OUT| 338767.1| C691691381|          0.0|           0.0| C453211571|     544481.28|    3461666.05|      0|             0|\n",
      "|   1|TRANSFER|276460.62|C1871680329|        595.0|           0.0|C1360767589|    1105242.28|    2107965.39|      0|             0|\n",
      "|   1| PAYMENT|  7649.41|C1129869771|     44435.75|      36786.34|M1620459733|           0.0|           0.0|      0|             0|\n",
      "|   1| PAYMENT| 14895.51|C1527882132|          0.0|           0.0| M935160003|           0.0|           0.0|      0|             0|\n",
      "|   1|CASH_OUT|386683.04|C1373577787|          0.0|           0.0|  C33524623|    1352623.44|    1517262.16|      0|             0|\n",
      "|   1|   DEBIT|  5423.28|C2139168000|      20281.0|      14857.72| C367746789|       11523.0|           0.0|      0|             0|\n",
      "|   1|CASH_OUT|472385.25|C1193841543|     26210.19|           0.0| C392292416|    1541224.63|    3420103.09|      0|             0|\n",
      "|   1| CASH_IN| 61505.91|C1790387225|   4910403.44|    4910403.44|  C11003494|    4910403.44| 1.058888527E7|      0|             0|\n",
      "|   1| PAYMENT|  4297.27| C981159997|       7468.0|       3170.73|  M85121323|           0.0|           0.0|      0|             0|\n",
      "|   1| PAYMENT|   635.55| C401891515|   1131641.43|    1131005.88|M1688310330|           0.0|           0.0|      0|             0|\n",
      "|   1|   DEBIT|  6522.37|C2011695710|        842.0|           0.0| C736709391|      40298.34|      46820.71|      0|             0|\n",
      "|   1|TRANSFER|229316.19|C1745903324|     24338.59|           0.0| C747464370|    1395069.49|    1567434.81|      0|             0|\n",
      "|   1| PAYMENT|  2673.65| C471004142|      23264.0|      20590.35|M1833335943|           0.0|           0.0|      0|             0|\n",
      "|   2|CASH_OUT| 69734.12|C1423978346|     26588.18|           0.0|C1100767002|     233370.36|     303104.48|      0|             0|\n",
      "|   2| PAYMENT|  1266.42|C1667348377|      20897.0|      19630.58| M463313451|           0.0|           0.0|      0|             0|\n",
      "|   2| PAYMENT|  2980.24|C1559783274|          0.0|           0.0|M1206931021|           0.0|           0.0|      0|             0|\n",
      "|   3| PAYMENT|  4798.39| C637524006|          0.0|           0.0| M696870185|           0.0|           0.0|      0|             0|\n",
      "|   3| CASH_IN|204766.89| C217911413|   4550718.07|    4755484.96|C1017997535|     224060.15|      19293.26|      0|             0|\n",
      "|   3| CASH_IN| 23641.67|C1911008699|   4574085.49|    4597727.16|C1850042097|     308871.37|      285229.7|      0|             0|\n",
      "+----+--------+---------+-----------+-------------+--------------+-----------+--------------+--------------+-------+--------------+\n",
      "only showing top 20 rows\n",
      "\n"
     ]
    }
   ],
   "source": [
    "df_fraud_det.show()"
   ]
  },
  {
   "cell_type": "code",
   "execution_count": 19,
   "id": "a01f3c06",
   "metadata": {},
   "outputs": [],
   "source": [
    "cols_to_convert = [\"amount\",\"oldbalanceorg\",\"newbalanceorig\", \"oldbalancedest\", \"newbalancedest\",\"isfraud\", \"isflaggedfraud\"]\n",
    "\n",
    "for c in cols_to_convert:\n",
    "    if(c == \"isfraud\" or c == \"isflaggedfraud\"):\n",
    "        df_fraud_det = df_fraud_det.withColumn(c, col(c).cast(\"int\"))\n",
    "    else:\n",
    "        df_fraud_det = df_fraud_det.withColumn(c, col(c).cast(\"float\"))"
   ]
  },
  {
   "cell_type": "code",
   "execution_count": 20,
   "id": "6a4c3fbd",
   "metadata": {},
   "outputs": [
    {
     "name": "stdout",
     "output_type": "stream",
     "text": [
      "root\n",
      " |-- step: string (nullable = true)\n",
      " |-- type: string (nullable = true)\n",
      " |-- amount: float (nullable = true)\n",
      " |-- nameorig: string (nullable = true)\n",
      " |-- oldbalanceorg: float (nullable = true)\n",
      " |-- newbalanceorig: float (nullable = true)\n",
      " |-- namedest: string (nullable = true)\n",
      " |-- oldbalancedest: float (nullable = true)\n",
      " |-- newbalancedest: float (nullable = true)\n",
      " |-- isfraud: integer (nullable = true)\n",
      " |-- isflaggedfraud: integer (nullable = true)\n",
      "\n"
     ]
    }
   ],
   "source": [
    "df_fraud_det.printSchema()"
   ]
  },
  {
   "cell_type": "markdown",
   "id": "7a3c88ef",
   "metadata": {},
   "source": [
    "# 2. Exploration and Data analysis"
   ]
  },
  {
   "cell_type": "code",
   "execution_count": 26,
   "id": "f863153e",
   "metadata": {},
   "outputs": [],
   "source": [
    "import matplotlib.pyplot as plt\n",
    "import pandas as pd\n",
    "import seaborn as sns\n",
    "from pyspark.sql.functions import rand"
   ]
  },
  {
   "cell_type": "code",
   "execution_count": 29,
   "id": "7ffcb1db",
   "metadata": {},
   "outputs": [],
   "source": [
    "fraction = 0.01\n",
    "df_sample = df_fraud_det.sample(withReplacement=False, fraction=fraction, seed=42)"
   ]
  },
  {
   "cell_type": "code",
   "execution_count": 25,
   "id": "d07ac3fa",
   "metadata": {},
   "outputs": [
    {
     "ename": "AttributeError",
     "evalue": "'DataFrame' object has no attribute 'hist'",
     "output_type": "error",
     "traceback": [
      "\u001b[1;31m---------------------------------------------------------------------------\u001b[0m",
      "\u001b[1;31mAttributeError\u001b[0m                            Traceback (most recent call last)",
      "Cell \u001b[1;32mIn[25], line 3\u001b[0m\n\u001b[0;32m      1\u001b[0m numerical_features \u001b[38;5;241m=\u001b[39m cols_to_convert\n\u001b[1;32m----> 3\u001b[0m df_fraud_det[numerical_features]\u001b[38;5;241m.\u001b[39mhist(bins\u001b[38;5;241m=\u001b[39m\u001b[38;5;241m30\u001b[39m, color\u001b[38;5;241m=\u001b[39m\u001b[38;5;124m'\u001b[39m\u001b[38;5;124mskyblue\u001b[39m\u001b[38;5;124m'\u001b[39m)\n\u001b[0;32m      4\u001b[0m plt\u001b[38;5;241m.\u001b[39mtight_layout()\n\u001b[0;32m      5\u001b[0m plt\u001b[38;5;241m.\u001b[39mshow()\n",
      "File \u001b[1;32m~\\anaconda3\\Lib\\site-packages\\pyspark\\sql\\dataframe.py:3127\u001b[0m, in \u001b[0;36mDataFrame.__getattr__\u001b[1;34m(self, name)\u001b[0m\n\u001b[0;32m   3094\u001b[0m \u001b[38;5;250m\u001b[39m\u001b[38;5;124;03m\"\"\"Returns the :class:`Column` denoted by ``name``.\u001b[39;00m\n\u001b[0;32m   3095\u001b[0m \n\u001b[0;32m   3096\u001b[0m \u001b[38;5;124;03m.. versionadded:: 1.3.0\u001b[39;00m\n\u001b[1;32m   (...)\u001b[0m\n\u001b[0;32m   3124\u001b[0m \u001b[38;5;124;03m+---+\u001b[39;00m\n\u001b[0;32m   3125\u001b[0m \u001b[38;5;124;03m\"\"\"\u001b[39;00m\n\u001b[0;32m   3126\u001b[0m \u001b[38;5;28;01mif\u001b[39;00m name \u001b[38;5;129;01mnot\u001b[39;00m \u001b[38;5;129;01min\u001b[39;00m \u001b[38;5;28mself\u001b[39m\u001b[38;5;241m.\u001b[39mcolumns:\n\u001b[1;32m-> 3127\u001b[0m     \u001b[38;5;28;01mraise\u001b[39;00m \u001b[38;5;167;01mAttributeError\u001b[39;00m(\n\u001b[0;32m   3128\u001b[0m         \u001b[38;5;124m\"\u001b[39m\u001b[38;5;124m'\u001b[39m\u001b[38;5;132;01m%s\u001b[39;00m\u001b[38;5;124m'\u001b[39m\u001b[38;5;124m object has no attribute \u001b[39m\u001b[38;5;124m'\u001b[39m\u001b[38;5;132;01m%s\u001b[39;00m\u001b[38;5;124m'\u001b[39m\u001b[38;5;124m\"\u001b[39m \u001b[38;5;241m%\u001b[39m (\u001b[38;5;28mself\u001b[39m\u001b[38;5;241m.\u001b[39m\u001b[38;5;18m__class__\u001b[39m\u001b[38;5;241m.\u001b[39m\u001b[38;5;18m__name__\u001b[39m, name)\n\u001b[0;32m   3129\u001b[0m     )\n\u001b[0;32m   3130\u001b[0m jc \u001b[38;5;241m=\u001b[39m \u001b[38;5;28mself\u001b[39m\u001b[38;5;241m.\u001b[39m_jdf\u001b[38;5;241m.\u001b[39mapply(name)\n\u001b[0;32m   3131\u001b[0m \u001b[38;5;28;01mreturn\u001b[39;00m Column(jc)\n",
      "\u001b[1;31mAttributeError\u001b[0m: 'DataFrame' object has no attribute 'hist'"
     ]
    }
   ],
   "source": [
    "numerical_features = cols_to_convert\n",
    "\n",
    "df_fraud_det[numerical_features].hist(bins=30, color='skyblue')\n",
    "plt.tight_layout()\n",
    "plt.show()\n"
   ]
  },
  {
   "cell_type": "code",
   "execution_count": null,
   "id": "1dd42bdb",
   "metadata": {},
   "outputs": [],
   "source": []
  }
 ],
 "metadata": {
  "kernelspec": {
   "display_name": "Python 3 (ipykernel)",
   "language": "python",
   "name": "python3"
  },
  "language_info": {
   "codemirror_mode": {
    "name": "ipython",
    "version": 3
   },
   "file_extension": ".py",
   "mimetype": "text/x-python",
   "name": "python",
   "nbconvert_exporter": "python",
   "pygments_lexer": "ipython3",
   "version": "3.11.4"
  }
 },
 "nbformat": 4,
 "nbformat_minor": 5
}
